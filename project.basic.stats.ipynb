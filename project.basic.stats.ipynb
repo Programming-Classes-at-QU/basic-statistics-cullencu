{
 "cells": [
  {
   "cell_type": "markdown",
   "metadata": {},
   "source": [
    "# Assignment\n",
    "\n",
    "Create code cells below, read in your dataset to accomplish 4 python tasks:\n",
    "\n",
    "1. Print out the basic statistics of the data. For numeric data, this should include the mean, median, mode, range, standard deviation, and interquartile (25%, 50%, 75%) range. For categorical data, it should include the number of unique values.\n",
    "2. For each variable, indicate the number of missing values.\n",
    "3. Choose two variables. Calculate the skew and kurtosis for each of these variables.\n",
    "4. Choose two variables. Represent one variable in a histogram. In the other, filter it to represent multiple box plots.\n",
    "\n",
    "Below your statistics, explain what information you can extract about your dataset from the statistics you have calculated."
   ]
  }
 ],
 "metadata": {
  "language_info": {
   "name": "python"
  }
 },
 "nbformat": 4,
 "nbformat_minor": 2
}
# Import libraries
import pandas as pd
import numpy as np
import matplotlib.pyplot as plt
import seaborn as sns
from scipy.stats import skew, kurtosis, mode

# Load your dataset (update the path as needed)
df = pd.read_csv("greenhouse_gas_inventory_data_data.csv")  # Replace with your actual file path
df.head()

# Numeric variables
numeric_df = df.select_dtypes(include=[np.number])

# Basic numeric stats
mean_vals = numeric_df.mean()
median_vals = numeric_df.median()
mode_vals = numeric_df.mode().iloc[0]
range_vals = numeric_df.max() - numeric_df.min()
std_vals = numeric_df.std()
iqr_vals = numeric_df.quantile([0.25, 0.5, 0.75])

# Display results
print("Means:\n", mean_vals)
print("\nMedians:\n", median_vals)
print("\nMo# Replace 'Variable1' and 'Variable2' with actual column names
var1 = 'Variable1'
var2 = 'Variable2'

print(f"Skew of {var1}: {skew(df[var1].dropna())}")
print(f"Kurtosis of {var1}: {kurtosis(df[var1].dropna())}")

print(f"\nSkew of {var2}: {skew(df[var2].dropna())}")
print(f"Kurtosis of {var2}: {kurtosis(df[var2].dropna())}")
des:\n", mode_vals)
print("\nRanges:\n", range_vals)
print("\nStandard Deviations:\n", std_vals)
print("\nInterquartile Ranges:\n", iqr_vals)

# Categorical variables
categorical_df = df.select_dtypes(exclude=[np.number])
print("Unique values in categorical columns:\n")
for col in categorical_df.columns:
    print(f"{col}: {df[col].nunique()} unique values")

missing_values = df.isnull().sum()
print("Missing values per variable:\n", missing_values)

# Replace 'Variable1' and 'Variable2' with actual column names
var1 = 'Variable1'
var2 = 'Variable2'

print(f"Skew of {var1}: {skew(df[var1].dropna())}")
print(f"Kurtosis of {var1}: {kurtosis(df[var1].dropna())}")

print(f"\nSkew of {var2}: {skew(df[var2].dropna())}")
print(f"Kurtosis of {var2}: {kurtosis(df[var2].dropna())}")

# Histogram for var1
plt.figure(figsize=(8, 5))
sns.histplot(df[var1].dropna(), kde=True)
plt.title(f"Histogram of {var1}")
plt.xlabel(var1)
plt.ylabel("Frequency")
plt.show()

# Boxplots for var2 grouped by a categorical column (replace 'CategoryColumn')
plt.figure(figsize=(10, 6))
sns.boxplot(data=df, x='CategoryColumn', y=var2)
plt.title(f"Boxplots of {var2} by Category")
plt.xticks(rotation=45)
plt.show()

